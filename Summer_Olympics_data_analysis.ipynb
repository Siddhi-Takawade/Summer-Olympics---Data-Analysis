{
  "nbformat": 4,
  "nbformat_minor": 0,
  "metadata": {
    "colab": {
      "name": "Summer Olympics data analysis",
      "provenance": []
    },
    "kernelspec": {
      "name": "python3",
      "display_name": "Python 3"
    },
    "language_info": {
      "name": "python"
    }
  },
  "cells": [
    {
      "cell_type": "markdown",
      "metadata": {
        "id": "i5QpeOvYBIVM"
      },
      "source": [
        "# **Summer Olympics Data Analysis**"
      ]
    },
    {
      "cell_type": "code",
      "metadata": {
        "id": "hYGVtsz7MZCI"
      },
      "source": [
        "import pandas as pd\n",
        "import numpy as np\n",
        "import matplotlib.pyplot as plt"
      ],
      "execution_count": 1,
      "outputs": []
    },
    {
      "cell_type": "code",
      "metadata": {
        "id": "6hdihXk3MnBZ"
      },
      "source": [
        "df = pd.read_csv('/content/Summer Olympics - summer.csv')"
      ],
      "execution_count": 2,
      "outputs": []
    },
    {
      "cell_type": "code",
      "metadata": {
        "colab": {
          "base_uri": "https://localhost:8080/",
          "height": 203
        },
        "id": "RzXJwW3CNIcJ",
        "outputId": "a186bd34-ed8d-4364-bb96-5eef6cfc34be"
      },
      "source": [
        "df.head()"
      ],
      "execution_count": 3,
      "outputs": [
        {
          "output_type": "execute_result",
          "data": {
            "text/html": [
              "<div>\n",
              "<style scoped>\n",
              "    .dataframe tbody tr th:only-of-type {\n",
              "        vertical-align: middle;\n",
              "    }\n",
              "\n",
              "    .dataframe tbody tr th {\n",
              "        vertical-align: top;\n",
              "    }\n",
              "\n",
              "    .dataframe thead th {\n",
              "        text-align: right;\n",
              "    }\n",
              "</style>\n",
              "<table border=\"1\" class=\"dataframe\">\n",
              "  <thead>\n",
              "    <tr style=\"text-align: right;\">\n",
              "      <th></th>\n",
              "      <th>Year</th>\n",
              "      <th>City</th>\n",
              "      <th>Sport</th>\n",
              "      <th>Discipline</th>\n",
              "      <th>Athlete</th>\n",
              "      <th>Country</th>\n",
              "      <th>Gender</th>\n",
              "      <th>Event</th>\n",
              "      <th>Medal</th>\n",
              "    </tr>\n",
              "  </thead>\n",
              "  <tbody>\n",
              "    <tr>\n",
              "      <th>0</th>\n",
              "      <td>1896</td>\n",
              "      <td>Athens</td>\n",
              "      <td>Aquatics</td>\n",
              "      <td>Swimming</td>\n",
              "      <td>HAJOS, Alfred</td>\n",
              "      <td>HUN</td>\n",
              "      <td>Men</td>\n",
              "      <td>100M Freestyle</td>\n",
              "      <td>Gold</td>\n",
              "    </tr>\n",
              "    <tr>\n",
              "      <th>1</th>\n",
              "      <td>1896</td>\n",
              "      <td>Athens</td>\n",
              "      <td>Aquatics</td>\n",
              "      <td>Swimming</td>\n",
              "      <td>HERSCHMANN, Otto</td>\n",
              "      <td>AUT</td>\n",
              "      <td>Men</td>\n",
              "      <td>100M Freestyle</td>\n",
              "      <td>Silver</td>\n",
              "    </tr>\n",
              "    <tr>\n",
              "      <th>2</th>\n",
              "      <td>1896</td>\n",
              "      <td>Athens</td>\n",
              "      <td>Aquatics</td>\n",
              "      <td>Swimming</td>\n",
              "      <td>DRIVAS, Dimitrios</td>\n",
              "      <td>GRE</td>\n",
              "      <td>Men</td>\n",
              "      <td>100M Freestyle For Sailors</td>\n",
              "      <td>Bronze</td>\n",
              "    </tr>\n",
              "    <tr>\n",
              "      <th>3</th>\n",
              "      <td>1896</td>\n",
              "      <td>Athens</td>\n",
              "      <td>Aquatics</td>\n",
              "      <td>Swimming</td>\n",
              "      <td>MALOKINIS, Ioannis</td>\n",
              "      <td>GRE</td>\n",
              "      <td>Men</td>\n",
              "      <td>100M Freestyle For Sailors</td>\n",
              "      <td>Gold</td>\n",
              "    </tr>\n",
              "    <tr>\n",
              "      <th>4</th>\n",
              "      <td>1896</td>\n",
              "      <td>Athens</td>\n",
              "      <td>Aquatics</td>\n",
              "      <td>Swimming</td>\n",
              "      <td>CHASAPIS, Spiridon</td>\n",
              "      <td>GRE</td>\n",
              "      <td>Men</td>\n",
              "      <td>100M Freestyle For Sailors</td>\n",
              "      <td>Silver</td>\n",
              "    </tr>\n",
              "  </tbody>\n",
              "</table>\n",
              "</div>"
            ],
            "text/plain": [
              "   Year    City     Sport  ... Gender                       Event   Medal\n",
              "0  1896  Athens  Aquatics  ...    Men              100M Freestyle    Gold\n",
              "1  1896  Athens  Aquatics  ...    Men              100M Freestyle  Silver\n",
              "2  1896  Athens  Aquatics  ...    Men  100M Freestyle For Sailors  Bronze\n",
              "3  1896  Athens  Aquatics  ...    Men  100M Freestyle For Sailors    Gold\n",
              "4  1896  Athens  Aquatics  ...    Men  100M Freestyle For Sailors  Silver\n",
              "\n",
              "[5 rows x 9 columns]"
            ]
          },
          "metadata": {},
          "execution_count": 3
        }
      ]
    },
    {
      "cell_type": "markdown",
      "metadata": {
        "id": "qpeThHPbBNFS"
      },
      "source": [
        "\n",
        "### **1. In how many cities Summer Olympics is held so far?**"
      ]
    },
    {
      "cell_type": "code",
      "metadata": {
        "id": "8Uz3uHyuNKEx"
      },
      "source": [
        "cities = []\n",
        "\n",
        "for city in df['City'].unique():\n",
        "    cities.append(city)"
      ],
      "execution_count": 4,
      "outputs": []
    },
    {
      "cell_type": "code",
      "metadata": {
        "colab": {
          "base_uri": "https://localhost:8080/"
        },
        "id": "SlXLdRrHCPN5",
        "outputId": "59be4ddf-17c1-49ea-fe79-a0d9c55499a7"
      },
      "source": [
        "cities"
      ],
      "execution_count": 5,
      "outputs": [
        {
          "output_type": "execute_result",
          "data": {
            "text/plain": [
              "['Athens',\n",
              " 'Paris',\n",
              " 'St Louis',\n",
              " 'London',\n",
              " 'Stockholm',\n",
              " 'Antwerp',\n",
              " 'Amsterdam',\n",
              " 'Los Angeles',\n",
              " 'Berlin',\n",
              " 'Helsinki',\n",
              " 'Melbourne / Stockholm',\n",
              " 'Rome',\n",
              " 'Tokyo',\n",
              " 'Mexico',\n",
              " 'Munich',\n",
              " 'Montreal',\n",
              " 'Moscow',\n",
              " 'Seoul',\n",
              " 'Barcelona',\n",
              " 'Atlanta',\n",
              " 'Sydney',\n",
              " 'Beijing']"
            ]
          },
          "metadata": {},
          "execution_count": 5
        }
      ]
    },
    {
      "cell_type": "code",
      "metadata": {
        "colab": {
          "base_uri": "https://localhost:8080/"
        },
        "id": "x-ZNyOZRCQXE",
        "outputId": "88ca33a3-6adc-4e05-8902-14d1e2b6b2ed"
      },
      "source": [
        "print(\"Number of cities Summer Olympics is held so far :\", len(cities))"
      ],
      "execution_count": 9,
      "outputs": [
        {
          "output_type": "stream",
          "name": "stdout",
          "text": [
            "Number of cities Summer Olympics is held so far : 22\n"
          ]
        }
      ]
    },
    {
      "cell_type": "markdown",
      "metadata": {
        "id": "eZTk0JEVDgUT"
      },
      "source": [
        "### **2. Which sport is having most number of Gold Medals so far? (Top 5)**"
      ]
    },
    {
      "cell_type": "code",
      "metadata": {
        "colab": {
          "base_uri": "https://localhost:8080/",
          "height": 399
        },
        "id": "dzv-SWGkCYMK",
        "outputId": "605af305-087c-4421-9aef-5bec28f14202"
      },
      "source": [
        "df = df[df['Medal']  == 'Gold']\n",
        "\n",
        "data = []\n",
        "\n",
        "for sport in df['Sport'].unique():\n",
        "    data.append([sport , len(df[df['Sport']  == sport])])\n",
        "\n",
        "pd.DataFrame(data,columns = ['Sport','Gold_freq']).sort_values(by='Gold_freq', ascending=False).head().plot(x = 'Sport', y = 'Gold_freq', kind = 'bar', figsize = (5,5))"
      ],
      "execution_count": 36,
      "outputs": [
        {
          "output_type": "execute_result",
          "data": {
            "text/plain": [
              "<matplotlib.axes._subplots.AxesSubplot at 0x7fec925f90d0>"
            ]
          },
          "metadata": {},
          "execution_count": 36
        },
        {
          "output_type": "display_data",
          "data": {
            "image/png": "[encoded data removed]",
            "text/plain": [
              "<Figure size 360x360 with 1 Axes>"
            ]
          },
          "metadata": {
            "needs_background": "light"
          }
        }
      ]
    },
    {
      "cell_type": "markdown",
      "metadata": {
        "id": "V8BUezp2MlW4"
      },
      "source": [
        "### **3. Which sport is having most number of medals so far? (Top 5)**"
      ]
    },
    {
      "cell_type": "code",
      "metadata": {
        "colab": {
          "base_uri": "https://localhost:8080/",
          "height": 399
        },
        "id": "Vtf-XAdOFEvB",
        "outputId": "ea2d5259-5c15-4bc9-912f-e921d5e249f4"
      },
      "source": [
        "data = []\n",
        "\n",
        "for sport in df['Sport'].unique():\n",
        "    data.append([sport , len(df[df['Sport']  == sport])])\n",
        "\n",
        "pd.DataFrame(data,columns = ['sport','medals']).sort_values(by='medals', ascending=False).head().plot(x = 'sport', y = 'medals', kind = 'bar', figsize = (5,5))"
      ],
      "execution_count": 41,
      "outputs": [
        {
          "output_type": "execute_result",
          "data": {
            "text/plain": [
              "<matplotlib.axes._subplots.AxesSubplot at 0x7fec9230d910>"
            ]
          },
          "metadata": {},
          "execution_count": 41
        },
        {
          "output_type": "display_data",
          "data": {
            "image/png": "[encoded data removed]",
            "text/plain": [
              "<Figure size 360x360 with 1 Axes>"
            ]
          },
          "metadata": {
            "needs_background": "light"
          }
        }
      ]
    },
    {
      "cell_type": "markdown",
      "metadata": {
        "id": "inyeegqVOJZi"
      },
      "source": [
        "### **4. Which player has won most number of medals? (Top 5)**"
      ]
    },
    {
      "cell_type": "code",
      "metadata": {
        "colab": {
          "base_uri": "https://localhost:8080/",
          "height": 458
        },
        "id": "9dvhX-iLNfx5",
        "outputId": "ad03d364-cfbf-47fc-f0a1-1e30089b4a48"
      },
      "source": [
        "data = []\n",
        "\n",
        "for player in df['Athlete'].unique():\n",
        "    data.append([player , len(df[df['Athlete']  == player])])\n",
        "\n",
        "pd.DataFrame(data,columns = ['Player','medals']).sort_values(by='medals', ascending=False).head().plot(x = 'Player', y = 'medals', kind = 'bar', figsize = (5,5))"
      ],
      "execution_count": 42,
      "outputs": [
        {
          "output_type": "execute_result",
          "data": {
            "text/plain": [
              "<matplotlib.axes._subplots.AxesSubplot at 0x7fec927a2990>"
            ]
          },
          "metadata": {},
          "execution_count": 42
        },
        {
          "output_type": "display_data",
          "data": {
            "image/png": "[encoded data removed]",
            "text/plain": [
              "<Figure size 360x360 with 1 Axes>"
            ]
          },
          "metadata": {
            "needs_background": "light"
          }
        }
      ]
    },
    {
      "cell_type": "markdown",
      "metadata": {
        "id": "FvDbnPMMPtk5"
      },
      "source": [
        "### **5. Which player has won most number Gold Medals of medals? (Top 5)**"
      ]
    },
    {
      "cell_type": "code",
      "metadata": {
        "colab": {
          "base_uri": "https://localhost:8080/",
          "height": 426
        },
        "id": "bMQQNknLPtGV",
        "outputId": "5e3bcebc-915f-4fed-e3fa-21c742964c75"
      },
      "source": [
        "df = df[df['Medal']  == 'Gold']\n",
        "\n",
        "data = []\n",
        "\n",
        "for player in df['Athlete'].unique():\n",
        "    data.append([player , len(df[df['Athlete']  == player])])\n",
        "\n",
        "pd.DataFrame(data,columns = ['Player','gold_medals']).sort_values(by='gold_medals', ascending=False).head().plot(x = 'Player', y = 'gold_medals', kind = 'bar', figsize = (5,5))"
      ],
      "execution_count": 57,
      "outputs": [
        {
          "output_type": "execute_result",
          "data": {
            "text/plain": [
              "<matplotlib.axes._subplots.AxesSubplot at 0x7fec91f734d0>"
            ]
          },
          "metadata": {},
          "execution_count": 57
        },
        {
          "output_type": "display_data",
          "data": {
            "image/png": "[encoded data removed]",
            "text/plain": [
              "<Figure size 360x360 with 1 Axes>"
            ]
          },
          "metadata": {
            "needs_background": "light"
          }
        }
      ]
    },
    {
      "cell_type": "markdown",
      "metadata": {
        "id": "JupM9ORcQZZw"
      },
      "source": [
        "### **6. In which year India won first Gold Medal in Summer Olympics?**"
      ]
    },
    {
      "cell_type": "code",
      "metadata": {
        "colab": {
          "base_uri": "https://localhost:8080/"
        },
        "id": "V6OE3aifQQ38",
        "outputId": "366ce961-02b6-43e6-f75c-71067f03c37c"
      },
      "source": [
        "df = df[df['Country']  == 'IND']\n",
        "df = df[df['Medal']  == 'Gold']\n",
        "\n",
        "years = []\n",
        "for yr in df['Year'].unique() :\n",
        "  years.append(yr)\n",
        "\n",
        "years.sort()\n",
        "print('India won first Gold medal in :', years[0])"
      ],
      "execution_count": 3,
      "outputs": [
        {
          "output_type": "stream",
          "name": "stdout",
          "text": [
            "India won first Gold medal in : 1928\n"
          ]
        }
      ]
    },
    {
      "cell_type": "markdown",
      "metadata": {
        "id": "aL_hv1IqTEOZ"
      },
      "source": [
        "### **7. Which event is most popular in terms of number of players? (Top 5)**"
      ]
    },
    {
      "cell_type": "code",
      "metadata": {
        "colab": {
          "base_uri": "https://localhost:8080/",
          "height": 431
        },
        "id": "q6NWbDHpQ35C",
        "outputId": "04df9528-0071-431e-8715-ed8338359cd4"
      },
      "source": [
        "data = []\n",
        "\n",
        "for event in df['Event'].unique():\n",
        "    data.append([event , len(df[df['Event']  == event])])\n",
        "\n",
        "pd.DataFrame(data,columns = ['Event','players']).sort_values(by='players', ascending=False).head().plot(x = 'Event', y = 'players', kind = 'bar', figsize = (5,5))"
      ],
      "execution_count": 55,
      "outputs": [
        {
          "output_type": "execute_result",
          "data": {
            "text/plain": [
              "<matplotlib.axes._subplots.AxesSubplot at 0x7fec91da2a90>"
            ]
          },
          "metadata": {},
          "execution_count": 55
        },
        {
          "output_type": "display_data",
          "data": {
            "image/png": "[encoded data removed]",
            "text/plain": [
              "<Figure size 360x360 with 1 Axes>"
            ]
          },
          "metadata": {
            "needs_background": "light"
          }
        }
      ]
    },
    {
      "cell_type": "markdown",
      "metadata": {
        "id": "qp3xWOeHV9JO"
      },
      "source": [
        "### **8. Which sport is having most female Gold Medalists? (Top 5)**"
      ]
    },
    {
      "cell_type": "code",
      "metadata": {
        "colab": {
          "base_uri": "https://localhost:8080/",
          "height": 399
        },
        "id": "QMfrzNlNV8z2",
        "outputId": "5d545057-bd5b-4123-cc66-c877ca88a0be"
      },
      "source": [
        "df = df[df['Gender']  == 'Women']\n",
        "\n",
        "df = df[df['Medal']  == 'Gold']\n",
        "\n",
        "data = []\n",
        "\n",
        "for sport in df['Sport'].unique():\n",
        "    data.append([sport , len(df[df['Sport']  == sport])])\n",
        "\n",
        "pd.DataFrame(data,columns = ['sport','female_gold_medals']).sort_values(by='female_gold_medals', ascending=False).head().plot(x = 'sport', y = 'female_gold_medals', kind = 'bar', figsize = (5,5))"
      ],
      "execution_count": 58,
      "outputs": [
        {
          "output_type": "execute_result",
          "data": {
            "text/plain": [
              "<matplotlib.axes._subplots.AxesSubplot at 0x7fec91de6f50>"
            ]
          },
          "metadata": {},
          "execution_count": 58
        },
        {
          "output_type": "display_data",
          "data": {
            "image/png": "[encoded data removed]",
            "text/plain": [
              "<Figure size 360x360 with 1 Axes>"
            ]
          },
          "metadata": {
            "needs_background": "light"
          }
        }
      ]
    }
  ]
}